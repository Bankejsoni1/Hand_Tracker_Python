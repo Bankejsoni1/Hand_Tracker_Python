{
 "cells": [
  {
   "cell_type": "markdown",
   "id": "2ca35dec",
   "metadata": {},
   "source": [
    "# How to Make a Hand Tracker Using Python"
   ]
  },
  {
   "cell_type": "markdown",
   "id": "718595f9",
   "metadata": {},
   "source": [
    "## Tutorial By Bankej Soni"
   ]
  },
  {
   "cell_type": "markdown",
   "id": "192cd77c",
   "metadata": {},
   "source": [
    "## Step 1 -"
   ]
  },
  {
   "cell_type": "code",
   "execution_count": null,
   "id": "396f58cc",
   "metadata": {},
   "outputs": [],
   "source": [
    "import cv2\n",
    "import mediapipe as mp"
   ]
  },
  {
   "cell_type": "markdown",
   "id": "5619a9db",
   "metadata": {},
   "source": [
    "## Step 2 - "
   ]
  },
  {
   "cell_type": "code",
   "execution_count": null,
   "id": "ed90b336",
   "metadata": {},
   "outputs": [],
   "source": [
    "mpHands = mp.solutions.hands\n",
    "Hands = mpHands.Hands()\n",
    "mpDraw = mp.solutions.drawing_utils"
   ]
  },
  {
   "cell_type": "markdown",
   "id": "babf623b",
   "metadata": {},
   "source": [
    "## Step 3 - "
   ]
  },
  {
   "cell_type": "code",
   "execution_count": null,
   "id": "f9c5551d",
   "metadata": {},
   "outputs": [],
   "source": [
    "cap = cv2.VideoCapture(0)"
   ]
  },
  {
   "cell_type": "markdown",
   "id": "2f0a1395",
   "metadata": {},
   "source": [
    "## Step 4"
   ]
  },
  {
   "cell_type": "code",
   "execution_count": null,
   "id": "f34e45b1",
   "metadata": {},
   "outputs": [],
   "source": [
    "while (cap.isOpened()):\n",
    "    success , img = cap.read() # reading Frame \n",
    "    converted_image = cv2.cvtColor(img,cv2.COLOR_BGR2RGB) # converting BGR to RGB\n",
    "    results = Hands.process(converted_image) # Processing Image for Tracking \n",
    "\n",
    "    if results.multi_hand_landmarks: # Getting Landmark(location) of Hands if Exists \n",
    "        for hand_in_frame in results.multi_hand_landmarks: # looping through hands exists in the Frame \n",
    "            mpDraw.draw_landmarks(img,hand_in_frame, mpHands.HAND_CONNECTIONS) # drawing Hand Connections   \n",
    "\n",
    "    cv2.imshow(\"Hand Tracker\", img) # showing Video \n",
    "\n",
    "    if cv2.waitKey(1) == 113: # 113 - Q : press on Q : Close Video \n",
    "        break"
   ]
  }
 ],
 "metadata": {
  "kernelspec": {
   "display_name": "Python 3",
   "language": "python",
   "name": "python3"
  },
  "language_info": {
   "codemirror_mode": {
    "name": "ipython",
    "version": 3
   },
   "file_extension": ".py",
   "mimetype": "text/x-python",
   "name": "python",
   "nbconvert_exporter": "python",
   "pygments_lexer": "ipython3",
   "version": "3.8.8"
  }
 },
 "nbformat": 4,
 "nbformat_minor": 5
}
